{
 "cells": [
  {
   "cell_type": "code",
   "execution_count": 2,
   "id": "1a19d961",
   "metadata": {},
   "outputs": [],
   "source": [
    "import numpy as np"
   ]
  },
  {
   "cell_type": "code",
   "execution_count": 10,
   "id": "f8897d76",
   "metadata": {},
   "outputs": [
    {
     "name": "stdout",
     "output_type": "stream",
     "text": [
      "[ 20  39  47  55 100]\n"
     ]
    }
   ],
   "source": [
    "ages = [20,39,47,55,100]\n",
    "ages = np.array(ages)\n",
    "print(ages)"
   ]
  },
  {
   "cell_type": "code",
   "execution_count": 13,
   "id": "d4e14fa9",
   "metadata": {},
   "outputs": [
    {
     "data": {
      "text/plain": [
       "100"
      ]
     },
     "execution_count": 13,
     "metadata": {},
     "output_type": "execute_result"
    }
   ],
   "source": [
    "np.max(ages)"
   ]
  },
  {
   "cell_type": "code",
   "execution_count": 16,
   "id": "f52f23cd",
   "metadata": {},
   "outputs": [
    {
     "data": {
      "text/plain": [
       "array([[[1, 2],\n",
       "        [3, 4]],\n",
       "\n",
       "       [[5, 6],\n",
       "        [7, 8]]])"
      ]
     },
     "execution_count": 16,
     "metadata": {},
     "output_type": "execute_result"
    }
   ],
   "source": [
    "a3D=np.array([[[1,2],[3,4]],[[5,6],[7,8]]])\n",
    "a3D"
   ]
  },
  {
   "cell_type": "code",
   "execution_count": 20,
   "id": "f42e2ab0",
   "metadata": {},
   "outputs": [
    {
     "data": {
      "text/plain": [
       "array([ 0,  9, 18, 27, 36, 45, 54, 63, 72, 81])"
      ]
     },
     "execution_count": 20,
     "metadata": {},
     "output_type": "execute_result"
    }
   ],
   "source": [
    "np.arange(0,90,9)"
   ]
  },
  {
   "cell_type": "code",
   "execution_count": 25,
   "id": "d83d18a6",
   "metadata": {},
   "outputs": [
    {
     "data": {
      "text/plain": [
       "array([[0.77395605, 0.43887844, 0.85859792],\n",
       "       [0.69736803, 0.09417735, 0.97562235]])"
      ]
     },
     "execution_count": 25,
     "metadata": {},
     "output_type": "execute_result"
    }
   ],
   "source": [
    "from numpy.random import default_rng\n",
    "default_rng(42).random((2,3))"
   ]
  },
  {
   "cell_type": "code",
   "execution_count": 2,
   "id": "7f4ef325",
   "metadata": {},
   "outputs": [
    {
     "data": {
      "image/png": "[encoded data removed]",
      "text/plain": [
       "<Figure size 432x288 with 1 Axes>"
      ]
     },
     "metadata": {
      "needs_background": "light"
     },
     "output_type": "display_data"
    }
   ],
   "source": [
    "import matplotlib.pyplot as plt\n",
    "\n",
    "xs = [10, 100, 25, 67, 74]\n",
    "ys = [125, 26, 66, 1, 10]\n",
    "\n",
    "plt.scatter(xs,ys)\n",
    "plt.show()"
   ]
  },
  {
   "cell_type": "code",
   "execution_count": 4,
   "id": "5f6c06d4",
   "metadata": {},
   "outputs": [
    {
     "name": "stdout",
     "output_type": "stream",
     "text": [
      "[[ 10 125]\n",
      " [100  26]\n",
      " [ 25  66]\n",
      " [ 67   1]\n",
      " [ 74  10]]\n"
     ]
    }
   ],
   "source": [
    "import numpy as np\n",
    "\n",
    "xs = [10, 100, 25, 67, 74]\n",
    "ys = [125, 26, 66, 1, 10]\n",
    "\n",
    "xys = [[10,125],[100,26],[25,66],[67,1],[74,10]]\n",
    "xys = np.array(xys)\n",
    "\n",
    "print(xys)"
   ]
  },
  {
   "cell_type": "code",
   "execution_count": 7,
   "id": "b1444f2d",
   "metadata": {},
   "outputs": [
    {
     "data": {
      "image/png": "[encoded data removed]",
      "text/plain": [
       "<Figure size 432x288 with 1 Axes>"
      ]
     },
     "metadata": {
      "needs_background": "light"
     },
     "output_type": "display_data"
    }
   ],
   "source": [
    "plt.scatter(xys[:,0],xys[:,1])\n",
    "plt.show()"
   ]
  },
  {
   "cell_type": "code",
   "execution_count": 12,
   "id": "3dbd127e",
   "metadata": {},
   "outputs": [
    {
     "data": {
      "text/plain": [
       "[125, 26]"
      ]
     },
     "execution_count": 12,
     "metadata": {},
     "output_type": "execute_result"
    }
   ],
   "source": [
    "[xys[0][1],xys[1][1]]"
   ]
  },
  {
   "cell_type": "code",
   "execution_count": 16,
   "id": "191b4d7a",
   "metadata": {},
   "outputs": [
    {
     "name": "stdout",
     "output_type": "stream",
     "text": [
      "55.2 45.6\n"
     ]
    }
   ],
   "source": [
    "x_mean = np.mean(xys[:,0])\n",
    "y_mean = np.mean(xys[:,1])\n",
    "\n",
    "print(x_mean,y_mean)"
   ]
  },
  {
   "cell_type": "code",
   "execution_count": 21,
   "id": "ed3832a5",
   "metadata": {},
   "outputs": [
    {
     "name": "stdout",
     "output_type": "stream",
     "text": [
      "[[ 10 125]\n",
      " [100  26]\n",
      " [ 25  66]\n",
      " [ 67   1]\n",
      " [ 74  10]] [55.2 45.6]\n"
     ]
    },
    {
     "data": {
      "text/plain": [
       "array([55.2, 45.6])"
      ]
     },
     "execution_count": 21,
     "metadata": {},
     "output_type": "execute_result"
    }
   ],
   "source": [
    "mean = np.mean(xys,0)\n",
    "print(xys,mean)\n",
    "xys.mean(0)"
   ]
  },
  {
   "cell_type": "code",
   "execution_count": 31,
   "id": "ccc7c898",
   "metadata": {},
   "outputs": [
    {
     "data": {
      "image/png": "[encoded data removed]",
      "text/plain": [
       "<Figure size 432x288 with 1 Axes>"
      ]
     },
     "metadata": {
      "needs_background": "light"
     },
     "output_type": "display_data"
    }
   ],
   "source": [
    "import matplotlib.patches as patches\n",
    "mean = np.mean(xys,0)\n",
    "std_dev = np.std(xys,0)\n",
    "\n",
    "ellipse = patches.Ellipse([mean[0],mean[1]], std_dev[0]*2, std_dev[1]*2, alpha=0.25)\n",
    "\n",
    "fig,graph = plt.subplots()\n",
    "\n",
    "graph.scatter(xys[:,0], xys[:,1])\n",
    "graph.scatter(mean[0], mean[1])\n",
    "graph.add_patch(ellipse)\n",
    "\n"
   ]
  },
  {
   "cell_type": "code",
   "execution_count": 43,
   "id": "e37f1fe8",
   "metadata": {},
   "outputs": [
    {
     "name": "stdout",
     "output_type": "stream",
     "text": [
      "[91.36410673782129, 48.89989775040434, 36.444478319767455, 46.13458572481171, 40.25916044827562]\n"
     ]
    }
   ],
   "source": [
    "dists = [np.linalg.norm(xy-mean) for xy in xys]\n",
    "print(dists)"
   ]
  },
  {
   "cell_type": "code",
   "execution_count": 42,
   "id": "cf9d8030",
   "metadata": {},
   "outputs": [
    {
     "name": "stdout",
     "output_type": "stream",
     "text": [
      "[7, 9, 11, 13]\n"
     ]
    }
   ],
   "source": [
    "a=[2,4,6,8]\n",
    "b = [item + 5 for item in a]\n",
    "print(b)"
   ]
  },
  {
   "cell_type": "code",
   "execution_count": 44,
   "id": "ae867e23",
   "metadata": {},
   "outputs": [
    {
     "data": {
      "text/plain": [
       "array([[ 10, 125],\n",
       "       [100,  26],\n",
       "       [ 25,  66],\n",
       "       [ 67,   1],\n",
       "       [ 74,  10]])"
      ]
     },
     "execution_count": 44,
     "metadata": {},
     "output_type": "execute_result"
    }
   ],
   "source": [
    "xys"
   ]
  },
  {
   "cell_type": "code",
   "execution_count": 49,
   "id": "b5d584cb",
   "metadata": {},
   "outputs": [
    {
     "name": "stdout",
     "output_type": "stream",
     "text": [
      "[[0.         1.        ]\n",
      " [1.         0.2016129 ]\n",
      " [0.16666667 0.52419355]\n",
      " [0.63333333 0.        ]\n",
      " [0.71111111 0.07258065]]\n"
     ]
    }
   ],
   "source": [
    "min=np.min(xys,0)\n",
    "max=np.max(xys,0)\n",
    "normed=(xys-min)/(max-min)\n",
    "print(normed)"
   ]
  },
  {
   "cell_type": "code",
   "execution_count": 51,
   "id": "f7550ac4",
   "metadata": {},
   "outputs": [
    {
     "data": {
      "text/plain": [
       "<matplotlib.patches.Ellipse at 0x29a981a3430>"
      ]
     },
     "execution_count": 51,
     "metadata": {},
     "output_type": "execute_result"
    },
    {
     "data": {
      "image/png": "[encoded data removed]",
      "text/plain": [
       "<Figure size 432x288 with 1 Axes>"
      ]
     },
     "metadata": {
      "needs_background": "light"
     },
     "output_type": "display_data"
    }
   ],
   "source": [
    "import matplotlib.patches as patches\n",
    "mean = np.mean(normed,0)\n",
    "std_dev = np.std(normed,0)\n",
    "\n",
    "ellipse = patches.Ellipse([mean[0],mean[1]], std_dev[0]*2, std_dev[1]*2, alpha=0.25)\n",
    "\n",
    "fig,graph = plt.subplots()\n",
    "\n",
    "graph.scatter(normed[:,0], normed[:,1])\n",
    "graph.scatter(mean[0], mean[1])\n",
    "graph.add_patch(ellipse)"
   ]
  }
 ],
 "metadata": {
  "kernelspec": {
   "display_name": "Python 3 (ipykernel)",
   "language": "python",
   "name": "python3"
  },
  "language_info": {
   "codemirror_mode": {
    "name": "ipython",
    "version": 3
   },
   "file_extension": ".py",
   "mimetype": "text/x-python",
   "name": "python",
   "nbconvert_exporter": "python",
   "pygments_lexer": "ipython3",
   "version": "3.9.12"
  }
 },
 "nbformat": 4,
 "nbformat_minor": 5
}
